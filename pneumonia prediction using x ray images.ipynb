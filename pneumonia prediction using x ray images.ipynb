{
 "cells": [
  {
   "cell_type": "code",
   "execution_count": 1,
   "metadata": {},
   "outputs": [
    {
     "name": "stderr",
     "output_type": "stream",
     "text": [
      "Using TensorFlow backend.\n"
     ]
    }
   ],
   "source": [
    "import keras\n",
    "#3 layers of cnn\n",
    "from keras.layers import Conv2D\n",
    "from keras.layers import MaxPooling2D\n",
    "from keras.layers import Flatten\n",
    "#ann layers\n",
    "from keras.models import Sequential\n",
    "from keras.layers import Dense\n"
   ]
  },
  {
   "cell_type": "code",
   "execution_count": 2,
   "metadata": {},
   "outputs": [],
   "source": [
    "model=Sequential()"
   ]
  },
  {
   "cell_type": "code",
   "execution_count": 3,
   "metadata": {},
   "outputs": [
    {
     "name": "stdout",
     "output_type": "stream",
     "text": [
      "WARNING:tensorflow:From C:\\Users\\Srinivas\\Anaconda3\\lib\\site-packages\\tensorflow\\python\\framework\\op_def_library.py:263: colocate_with (from tensorflow.python.framework.ops) is deprecated and will be removed in a future version.\n",
      "Instructions for updating:\n",
      "Colocations handled automatically by placer.\n"
     ]
    },
    {
     "name": "stderr",
     "output_type": "stream",
     "text": [
      "C:\\Users\\Srinivas\\Anaconda3\\lib\\site-packages\\ipykernel_launcher.py:1: UserWarning: Update your `Conv2D` call to the Keras 2 API: `Conv2D(32, (3, 3), input_shape=(64, 64, 3..., activation=\"relu\")`\n",
      "  \"\"\"Entry point for launching an IPython kernel.\n"
     ]
    }
   ],
   "source": [
    "model.add(Conv2D(32,3,3,input_shape=(64,64,3),activation='relu'))"
   ]
  },
  {
   "cell_type": "code",
   "execution_count": 4,
   "metadata": {},
   "outputs": [],
   "source": [
    "model.add(MaxPooling2D(pool_size=(2,2)))"
   ]
  },
  {
   "cell_type": "code",
   "execution_count": 5,
   "metadata": {},
   "outputs": [],
   "source": [
    "model.add(Flatten())"
   ]
  },
  {
   "cell_type": "code",
   "execution_count": 6,
   "metadata": {},
   "outputs": [
    {
     "name": "stderr",
     "output_type": "stream",
     "text": [
      "C:\\Users\\Srinivas\\Anaconda3\\lib\\site-packages\\ipykernel_launcher.py:1: UserWarning: Update your `Dense` call to the Keras 2 API: `Dense(activation=\"relu\", units=128, kernel_initializer=\"random_uniform\")`\n",
      "  \"\"\"Entry point for launching an IPython kernel.\n"
     ]
    }
   ],
   "source": [
    "model.add(Dense(output_dim=128,activation='relu',init='random_uniform'))"
   ]
  },
  {
   "cell_type": "code",
   "execution_count": 7,
   "metadata": {},
   "outputs": [
    {
     "name": "stderr",
     "output_type": "stream",
     "text": [
      "C:\\Users\\Srinivas\\Anaconda3\\lib\\site-packages\\ipykernel_launcher.py:1: UserWarning: Update your `Dense` call to the Keras 2 API: `Dense(activation=\"sigmoid\", units=1, kernel_initializer=\"random_uniform\")`\n",
      "  \"\"\"Entry point for launching an IPython kernel.\n"
     ]
    }
   ],
   "source": [
    "model.add(Dense(output_dim=1,activation='sigmoid',init='random_uniform'))"
   ]
  },
  {
   "cell_type": "code",
   "execution_count": 8,
   "metadata": {},
   "outputs": [],
   "source": [
    "model.compile(optimizer='adam',loss='binary_crossentropy',metrics=['accuracy'])"
   ]
  },
  {
   "cell_type": "code",
   "execution_count": 9,
   "metadata": {},
   "outputs": [],
   "source": [
    "from keras.preprocessing.image import ImageDataGenerator"
   ]
  },
  {
   "cell_type": "code",
   "execution_count": 10,
   "metadata": {},
   "outputs": [],
   "source": [
    "train_datagen=ImageDataGenerator(rescale=1./255,shear_range=0.2,zoom_range=0.2,horizontal_flip=True) #training\n",
    "test_datagen=ImageDataGenerator(rescale=1./255)   #testing\n",
    "#pixels values b/w 0 - 255.here we rescaling the 0-255 to 0-1 range\n",
    "#shear_range =rotate"
   ]
  },
  {
   "cell_type": "code",
   "execution_count": 11,
   "metadata": {},
   "outputs": [
    {
     "name": "stdout",
     "output_type": "stream",
     "text": [
      "Found 5216 images belonging to 2 classes.\n",
      "Found 624 images belonging to 2 classes.\n"
     ]
    }
   ],
   "source": [
    "x_train=train_datagen.flow_from_directory(r'C:\\Users\\Srinivas\\Downloads\\chest_xray\\train',target_size=(64,64),batch_size=32,class_mode='binary')\n",
    "x_test=test_datagen.flow_from_directory(r'C:\\Users\\Srinivas\\Downloads\\chest_xray\\test',target_size=(64,64),batch_size=32,class_mode='binary')\n",
    "#retreiving the imgs fromfoldera and split into 2 variables train and test\n",
    "#for categoriacal"
   ]
  },
  {
   "cell_type": "code",
   "execution_count": 12,
   "metadata": {},
   "outputs": [
    {
     "name": "stdout",
     "output_type": "stream",
     "text": [
      "{'NORMAL': 0, 'PNEUMONIA': 1}\n"
     ]
    }
   ],
   "source": [
    "print(x_train.class_indices) #allocates no.s to the classes"
   ]
  },
  {
   "cell_type": "code",
   "execution_count": 13,
   "metadata": {},
   "outputs": [
    {
     "name": "stdout",
     "output_type": "stream",
     "text": [
      "WARNING:tensorflow:From C:\\Users\\Srinivas\\Anaconda3\\lib\\site-packages\\tensorflow\\python\\ops\\math_ops.py:3066: to_int32 (from tensorflow.python.ops.math_ops) is deprecated and will be removed in a future version.\n",
      "Instructions for updating:\n",
      "Use tf.cast instead.\n"
     ]
    },
    {
     "name": "stderr",
     "output_type": "stream",
     "text": [
      "C:\\Users\\Srinivas\\Anaconda3\\lib\\site-packages\\ipykernel_launcher.py:1: UserWarning: The semantics of the Keras 2 argument `steps_per_epoch` is not the same as the Keras 1 argument `samples_per_epoch`. `steps_per_epoch` is the number of batches to draw from the generator at each epoch. Basically steps_per_epoch = samples_per_epoch/batch_size. Similarly `nb_val_samples`->`validation_steps` and `val_samples`->`steps` arguments have changed. Update your method calls accordingly.\n",
      "  \"\"\"Entry point for launching an IPython kernel.\n",
      "C:\\Users\\Srinivas\\Anaconda3\\lib\\site-packages\\ipykernel_launcher.py:1: UserWarning: Update your `fit_generator` call to the Keras 2 API: `fit_generator(<keras_pre..., epochs=25, validation_data=<keras_pre..., steps_per_epoch=163, validation_steps=624)`\n",
      "  \"\"\"Entry point for launching an IPython kernel.\n"
     ]
    },
    {
     "name": "stdout",
     "output_type": "stream",
     "text": [
      "Epoch 1/25\n",
      "163/163 [==============================] - 462s 3s/step - loss: 0.3286 - acc: 0.8595 - val_loss: 0.6405 - val_acc: 0.7308\n",
      "Epoch 2/25\n",
      "163/163 [==============================] - 466s 3s/step - loss: 0.2414 - acc: 0.8984 - val_loss: 0.3339 - val_acc: 0.8621\n",
      "Epoch 3/25\n",
      "163/163 [==============================] - 492s 3s/step - loss: 0.1940 - acc: 0.9201 - val_loss: 0.5831 - val_acc: 0.7791\n",
      "Epoch 4/25\n",
      "163/163 [==============================] - 493s 3s/step - loss: 0.1966 - acc: 0.9218 - val_loss: 0.3253 - val_acc: 0.8816\n",
      "Epoch 5/25\n",
      "163/163 [==============================] - 467s 3s/step - loss: 0.1773 - acc: 0.9312 - val_loss: 0.3565 - val_acc: 0.8766\n",
      "Epoch 6/25\n",
      "163/163 [==============================] - 469s 3s/step - loss: 0.1561 - acc: 0.9400 - val_loss: 0.3878 - val_acc: 0.8667\n",
      "Epoch 7/25\n",
      "163/163 [==============================] - 468s 3s/step - loss: 0.1470 - acc: 0.9448 - val_loss: 0.5269 - val_acc: 0.8108\n",
      "Epoch 8/25\n",
      "163/163 [==============================] - 475s 3s/step - loss: 0.1401 - acc: 0.9463 - val_loss: 0.3151 - val_acc: 0.8897\n",
      "Epoch 9/25\n",
      "163/163 [==============================] - 472s 3s/step - loss: 0.1511 - acc: 0.9402 - val_loss: 0.5909 - val_acc: 0.8000\n",
      "Epoch 10/25\n",
      "163/163 [==============================] - 547s 3s/step - loss: 0.1290 - acc: 0.9503 - val_loss: 0.5119 - val_acc: 0.8446\n",
      "Epoch 11/25\n",
      "163/163 [==============================] - 475s 3s/step - loss: 0.1297 - acc: 0.9486 - val_loss: 0.3969 - val_acc: 0.8942\n",
      "Epoch 12/25\n",
      "163/163 [==============================] - 478s 3s/step - loss: 0.1348 - acc: 0.9498 - val_loss: 0.2978 - val_acc: 0.9006\n",
      "Epoch 13/25\n",
      "163/163 [==============================] - 457s 3s/step - loss: 0.1387 - acc: 0.9480 - val_loss: 0.4241 - val_acc: 0.8781\n",
      "Epoch 14/25\n",
      "163/163 [==============================] - 459s 3s/step - loss: 0.1341 - acc: 0.9480 - val_loss: 0.3095 - val_acc: 0.8942\n",
      "Epoch 15/25\n",
      "163/163 [==============================] - 763s 5s/step - loss: 0.1234 - acc: 0.9513 - val_loss: 0.3542 - val_acc: 0.9008\n",
      "Epoch 16/25\n",
      "163/163 [==============================] - 462s 3s/step - loss: 0.1197 - acc: 0.9582 - val_loss: 0.4184 - val_acc: 0.8845\n",
      "Epoch 17/25\n",
      "163/163 [==============================] - 460s 3s/step - loss: 0.1211 - acc: 0.9553 - val_loss: 0.4175 - val_acc: 0.8849\n",
      "Epoch 18/25\n",
      "163/163 [==============================] - 471s 3s/step - loss: 0.1219 - acc: 0.9530 - val_loss: 0.3560 - val_acc: 0.8939\n",
      "Epoch 19/25\n",
      "163/163 [==============================] - 493s 3s/step - loss: 0.1134 - acc: 0.9582 - val_loss: 0.4165 - val_acc: 0.8703\n",
      "Epoch 20/25\n",
      "163/163 [==============================] - 464s 3s/step - loss: 0.1025 - acc: 0.9615 - val_loss: 0.3373 - val_acc: 0.8960\n",
      "Epoch 21/25\n",
      "163/163 [==============================] - 462s 3s/step - loss: 0.1086 - acc: 0.9601 - val_loss: 0.6011 - val_acc: 0.8462\n",
      "Epoch 22/25\n",
      "163/163 [==============================] - 470s 3s/step - loss: 0.1197 - acc: 0.9557 - val_loss: 0.5047 - val_acc: 0.8624\n",
      "Epoch 23/25\n",
      "163/163 [==============================] - 458s 3s/step - loss: 0.1008 - acc: 0.9618 - val_loss: 0.3914 - val_acc: 0.8969\n",
      "Epoch 24/25\n",
      "163/163 [==============================] - 458s 3s/step - loss: 0.1012 - acc: 0.9634 - val_loss: 0.3623 - val_acc: 0.9071\n",
      "Epoch 25/25\n",
      "163/163 [==============================] - 460s 3s/step - loss: 0.1147 - acc: 0.9555 - val_loss: 0.4294 - val_acc: 0.8942\n"
     ]
    },
    {
     "data": {
      "text/plain": [
       "<keras.callbacks.History at 0x212cf878e80>"
      ]
     },
     "execution_count": 13,
     "metadata": {},
     "output_type": "execute_result"
    }
   ],
   "source": [
    "model.fit_generator(x_train,samples_per_epoch=5216,epochs=25,validation_data=x_test,nb_val_samples=624)\n",
    "#here samples for epoch = how samples must be taken for each epoch =(8000/32)=(tatal samples/batch size).......formula"
   ]
  },
  {
   "cell_type": "code",
   "execution_count": 14,
   "metadata": {},
   "outputs": [],
   "source": [
    "model.save(\"projectimgs.h5\")"
   ]
  },
  {
   "cell_type": "code",
   "execution_count": null,
   "metadata": {},
   "outputs": [],
   "source": []
  }
 ],
 "metadata": {
  "kernelspec": {
   "display_name": "Python 3",
   "language": "python",
   "name": "python3"
  },
  "language_info": {
   "codemirror_mode": {
    "name": "ipython",
    "version": 3
   },
   "file_extension": ".py",
   "mimetype": "text/x-python",
   "name": "python",
   "nbconvert_exporter": "python",
   "pygments_lexer": "ipython3",
   "version": "3.7.1"
  }
 },
 "nbformat": 4,
 "nbformat_minor": 2
}
